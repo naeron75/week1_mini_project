{
 "cells": [
  {
   "cell_type": "code",
   "execution_count": null,
   "id": "5f775c28-0270-4066-a51b-999f5d85cf4d",
   "metadata": {},
   "outputs": [],
   "source": [
    "%load_ext autoreload\n",
    "%autoreload 2 "
   ]
  },
  {
   "cell_type": "code",
   "execution_count": null,
   "id": "06abee43-9256-467a-9d05-45b9730007bf",
   "metadata": {},
   "outputs": [],
   "source": [
    "import game_function import start_game\n",
    "\n",
    "start_game()"
   ]
  }
 ],
 "metadata": {
  "kernelspec": {
   "display_name": "Python 3 (ipykernel)",
   "language": "python",
   "name": "python3"
  },
  "language_info": {
   "codemirror_mode": {
    "name": "ipython",
    "version": 3
   },
   "file_extension": ".py",
   "mimetype": "text/x-python",
   "name": "python",
   "nbconvert_exporter": "python",
   "pygments_lexer": "ipython3",
   "version": "3.12.4"
  }
 },
 "nbformat": 4,
 "nbformat_minor": 5
}
